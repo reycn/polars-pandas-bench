{
 "cells": [
  {
   "cell_type": "code",
   "execution_count": 2,
   "metadata": {},
   "outputs": [],
   "source": [
    "# !pip install 'polars[all]'"
   ]
  },
  {
   "cell_type": "code",
   "execution_count": 3,
   "metadata": {},
   "outputs": [],
   "source": [
    "import time\n",
    "import pandas as pd\n",
    "import polars as pl\n",
    "\n",
    "compare = {'Pandas':{},\n",
    "           'Polars':{}}"
   ]
  },
  {
   "attachments": {},
   "cell_type": "markdown",
   "metadata": {},
   "source": [
    "# Import"
   ]
  },
  {
   "cell_type": "code",
   "execution_count": 4,
   "metadata": {},
   "outputs": [
    {
     "name": "stderr",
     "output_type": "stream",
     "text": [
      "Polars found a filename. Ensure you pass a path to the file instead of a python file object when possible for best performance."
     ]
    }
   ],
   "source": [
    "test = \"Import a 10mb csv file\"\n",
    "\n",
    "time_start=time.time()\n",
    "df_pd = pd.read_csv('./data/hotel_train.txt', sep=',', encoding='utf-8')\n",
    "time_end=time.time()\n",
    "compare['Pandas'][test] = time_end - time_start\n",
    "\n",
    "time_start=time.time()\n",
    "df_pl = pl.read_csv('./data/hotel_train.txt', sep=',', encoding='utf-8')\n",
    "time_end=time.time()\n",
    "compare['Polars'][test] = time_end - time_start"
   ]
  },
  {
   "cell_type": "code",
   "execution_count": 5,
   "metadata": {},
   "outputs": [
    {
     "name": "stderr",
     "output_type": "stream",
     "text": [
      "/var/folders/3j/r5y5z2vx0lb164l0mmjpqg_80000gn/T/ipykernel_12480/1532774379.py:5: FutureWarning: The default value of numeric_only in DataFrameGroupBy.sum is deprecated. In a future version, numeric_only will default to False. Either specify numeric_only or select only columns which should be valid for the function.\n",
      "  df_pd.groupby(col).sum()\n",
      "/var/folders/3j/r5y5z2vx0lb164l0mmjpqg_80000gn/T/ipykernel_12480/1532774379.py:5: FutureWarning: The default value of numeric_only in DataFrameGroupBy.sum is deprecated. In a future version, numeric_only will default to False. Either specify numeric_only or select only columns which should be valid for the function.\n",
      "  df_pd.groupby(col).sum()\n",
      "/var/folders/3j/r5y5z2vx0lb164l0mmjpqg_80000gn/T/ipykernel_12480/1532774379.py:5: FutureWarning: The default value of numeric_only in DataFrameGroupBy.sum is deprecated. In a future version, numeric_only will default to False. Either specify numeric_only or select only columns which should be valid for the function.\n",
      "  df_pd.groupby(col).sum()\n",
      "/var/folders/3j/r5y5z2vx0lb164l0mmjpqg_80000gn/T/ipykernel_12480/1532774379.py:5: FutureWarning: The default value of numeric_only in DataFrameGroupBy.sum is deprecated. In a future version, numeric_only will default to False. Either specify numeric_only or select only columns which should be valid for the function.\n",
      "  df_pd.groupby(col).sum()\n",
      "/var/folders/3j/r5y5z2vx0lb164l0mmjpqg_80000gn/T/ipykernel_12480/1532774379.py:5: FutureWarning: The default value of numeric_only in DataFrameGroupBy.sum is deprecated. In a future version, numeric_only will default to False. Either specify numeric_only or select only columns which should be valid for the function.\n",
      "  df_pd.groupby(col).sum()\n",
      "/var/folders/3j/r5y5z2vx0lb164l0mmjpqg_80000gn/T/ipykernel_12480/1532774379.py:5: FutureWarning: The default value of numeric_only in DataFrameGroupBy.sum is deprecated. In a future version, numeric_only will default to False. Either specify numeric_only or select only columns which should be valid for the function.\n",
      "  df_pd.groupby(col).sum()\n",
      "/var/folders/3j/r5y5z2vx0lb164l0mmjpqg_80000gn/T/ipykernel_12480/1532774379.py:5: FutureWarning: The default value of numeric_only in DataFrameGroupBy.sum is deprecated. In a future version, numeric_only will default to False. Either specify numeric_only or select only columns which should be valid for the function.\n",
      "  df_pd.groupby(col).sum()\n",
      "/var/folders/3j/r5y5z2vx0lb164l0mmjpqg_80000gn/T/ipykernel_12480/1532774379.py:5: FutureWarning: The default value of numeric_only in DataFrameGroupBy.sum is deprecated. In a future version, numeric_only will default to False. Either specify numeric_only or select only columns which should be valid for the function.\n",
      "  df_pd.groupby(col).sum()\n",
      "/var/folders/3j/r5y5z2vx0lb164l0mmjpqg_80000gn/T/ipykernel_12480/1532774379.py:5: FutureWarning: The default value of numeric_only in DataFrameGroupBy.sum is deprecated. In a future version, numeric_only will default to False. Either specify numeric_only or select only columns which should be valid for the function.\n",
      "  df_pd.groupby(col).sum()\n",
      "/var/folders/3j/r5y5z2vx0lb164l0mmjpqg_80000gn/T/ipykernel_12480/1532774379.py:5: FutureWarning: The default value of numeric_only in DataFrameGroupBy.sum is deprecated. In a future version, numeric_only will default to False. Either specify numeric_only or select only columns which should be valid for the function.\n",
      "  df_pd.groupby(col).sum()\n",
      "/var/folders/3j/r5y5z2vx0lb164l0mmjpqg_80000gn/T/ipykernel_12480/1532774379.py:5: FutureWarning: The default value of numeric_only in DataFrameGroupBy.sum is deprecated. In a future version, numeric_only will default to False. Either specify numeric_only or select only columns which should be valid for the function.\n",
      "  df_pd.groupby(col).sum()\n",
      "/var/folders/3j/r5y5z2vx0lb164l0mmjpqg_80000gn/T/ipykernel_12480/1532774379.py:5: FutureWarning: The default value of numeric_only in DataFrameGroupBy.sum is deprecated. In a future version, numeric_only will default to False. Either specify numeric_only or select only columns which should be valid for the function.\n",
      "  df_pd.groupby(col).sum()\n",
      "/var/folders/3j/r5y5z2vx0lb164l0mmjpqg_80000gn/T/ipykernel_12480/1532774379.py:5: FutureWarning: The default value of numeric_only in DataFrameGroupBy.sum is deprecated. In a future version, numeric_only will default to False. Either specify numeric_only or select only columns which should be valid for the function.\n",
      "  df_pd.groupby(col).sum()\n",
      "/var/folders/3j/r5y5z2vx0lb164l0mmjpqg_80000gn/T/ipykernel_12480/1532774379.py:5: FutureWarning: The default value of numeric_only in DataFrameGroupBy.sum is deprecated. In a future version, numeric_only will default to False. Either specify numeric_only or select only columns which should be valid for the function.\n",
      "  df_pd.groupby(col).sum()\n",
      "/var/folders/3j/r5y5z2vx0lb164l0mmjpqg_80000gn/T/ipykernel_12480/1532774379.py:5: FutureWarning: The default value of numeric_only in DataFrameGroupBy.sum is deprecated. In a future version, numeric_only will default to False. Either specify numeric_only or select only columns which should be valid for the function.\n",
      "  df_pd.groupby(col).sum()\n",
      "/var/folders/3j/r5y5z2vx0lb164l0mmjpqg_80000gn/T/ipykernel_12480/1532774379.py:5: FutureWarning: The default value of numeric_only in DataFrameGroupBy.sum is deprecated. In a future version, numeric_only will default to False. Either specify numeric_only or select only columns which should be valid for the function.\n",
      "  df_pd.groupby(col).sum()\n",
      "/var/folders/3j/r5y5z2vx0lb164l0mmjpqg_80000gn/T/ipykernel_12480/1532774379.py:5: FutureWarning: The default value of numeric_only in DataFrameGroupBy.sum is deprecated. In a future version, numeric_only will default to False. Either specify numeric_only or select only columns which should be valid for the function.\n",
      "  df_pd.groupby(col).sum()\n",
      "/var/folders/3j/r5y5z2vx0lb164l0mmjpqg_80000gn/T/ipykernel_12480/1532774379.py:5: FutureWarning: The default value of numeric_only in DataFrameGroupBy.sum is deprecated. In a future version, numeric_only will default to False. Either specify numeric_only or select only columns which should be valid for the function.\n",
      "  df_pd.groupby(col).sum()\n",
      "/var/folders/3j/r5y5z2vx0lb164l0mmjpqg_80000gn/T/ipykernel_12480/1532774379.py:5: FutureWarning: The default value of numeric_only in DataFrameGroupBy.sum is deprecated. In a future version, numeric_only will default to False. Either specify numeric_only or select only columns which should be valid for the function.\n",
      "  df_pd.groupby(col).sum()\n",
      "/var/folders/3j/r5y5z2vx0lb164l0mmjpqg_80000gn/T/ipykernel_12480/1532774379.py:5: FutureWarning: The default value of numeric_only in DataFrameGroupBy.sum is deprecated. In a future version, numeric_only will default to False. Either specify numeric_only or select only columns which should be valid for the function.\n",
      "  df_pd.groupby(col).sum()\n",
      "/var/folders/3j/r5y5z2vx0lb164l0mmjpqg_80000gn/T/ipykernel_12480/1532774379.py:5: FutureWarning: The default value of numeric_only in DataFrameGroupBy.sum is deprecated. In a future version, numeric_only will default to False. Either specify numeric_only or select only columns which should be valid for the function.\n",
      "  df_pd.groupby(col).sum()\n",
      "/var/folders/3j/r5y5z2vx0lb164l0mmjpqg_80000gn/T/ipykernel_12480/1532774379.py:5: FutureWarning: The default value of numeric_only in DataFrameGroupBy.sum is deprecated. In a future version, numeric_only will default to False. Either specify numeric_only or select only columns which should be valid for the function.\n",
      "  df_pd.groupby(col).sum()\n",
      "/var/folders/3j/r5y5z2vx0lb164l0mmjpqg_80000gn/T/ipykernel_12480/1532774379.py:5: FutureWarning: The default value of numeric_only in DataFrameGroupBy.sum is deprecated. In a future version, numeric_only will default to False. Either specify numeric_only or select only columns which should be valid for the function.\n",
      "  df_pd.groupby(col).sum()\n",
      "/var/folders/3j/r5y5z2vx0lb164l0mmjpqg_80000gn/T/ipykernel_12480/1532774379.py:5: FutureWarning: The default value of numeric_only in DataFrameGroupBy.sum is deprecated. In a future version, numeric_only will default to False. Either specify numeric_only or select only columns which should be valid for the function.\n",
      "  df_pd.groupby(col).sum()\n",
      "/var/folders/3j/r5y5z2vx0lb164l0mmjpqg_80000gn/T/ipykernel_12480/1532774379.py:5: FutureWarning: The default value of numeric_only in DataFrameGroupBy.sum is deprecated. In a future version, numeric_only will default to False. Either specify numeric_only or select only columns which should be valid for the function.\n",
      "  df_pd.groupby(col).sum()\n",
      "/var/folders/3j/r5y5z2vx0lb164l0mmjpqg_80000gn/T/ipykernel_12480/1532774379.py:5: FutureWarning: The default value of numeric_only in DataFrameGroupBy.sum is deprecated. In a future version, numeric_only will default to False. Either specify numeric_only or select only columns which should be valid for the function.\n",
      "  df_pd.groupby(col).sum()\n",
      "/var/folders/3j/r5y5z2vx0lb164l0mmjpqg_80000gn/T/ipykernel_12480/1532774379.py:5: FutureWarning: The default value of numeric_only in DataFrameGroupBy.sum is deprecated. In a future version, numeric_only will default to False. Either specify numeric_only or select only columns which should be valid for the function.\n",
      "  df_pd.groupby(col).sum()\n",
      "/var/folders/3j/r5y5z2vx0lb164l0mmjpqg_80000gn/T/ipykernel_12480/1532774379.py:5: FutureWarning: The default value of numeric_only in DataFrameGroupBy.sum is deprecated. In a future version, numeric_only will default to False. Either specify numeric_only or select only columns which should be valid for the function.\n",
      "  df_pd.groupby(col).sum()\n",
      "/var/folders/3j/r5y5z2vx0lb164l0mmjpqg_80000gn/T/ipykernel_12480/1532774379.py:5: FutureWarning: The default value of numeric_only in DataFrameGroupBy.sum is deprecated. In a future version, numeric_only will default to False. Either specify numeric_only or select only columns which should be valid for the function.\n",
      "  df_pd.groupby(col).sum()\n"
     ]
    }
   ],
   "source": [
    "test = \"Column loops\"\n",
    "\n",
    "time_start=time.time()\n",
    "for col in df_pd.columns:\n",
    "    df_pd.groupby(col).sum()\n",
    "time_end=time.time()\n",
    "compare['Pandas'][test] = time_end - time_start\n",
    "\n",
    "time_start=time.time()\n",
    "for col in df_pl.columns:\n",
    "    df_pl.groupby(col).sum()\n",
    "time_end=time.time()\n",
    "compare['Polars'][test] = time_end - time_start"
   ]
  },
  {
   "cell_type": "code",
   "execution_count": 6,
   "metadata": {},
   "outputs": [],
   "source": [
    "test = \"Concat three 10mb dataframes\"\n",
    "\n",
    "time_start=time.time()\n",
    "pd.concat([df_pd, df_pd, df_pd])\n",
    "time_end=time.time()\n",
    "compare['Pandas'][test] = time_end - time_start\n",
    "\n",
    "time_start=time.time()\n",
    "pl.concat([df_pl, df_pl, df_pl])\n",
    "time_end=time.time()\n",
    "compare['Polars'][test] = time_end - time_start"
   ]
  },
  {
   "cell_type": "code",
   "execution_count": 7,
   "metadata": {},
   "outputs": [
    {
     "name": "stderr",
     "output_type": "stream",
     "text": [
      "/var/folders/3j/r5y5z2vx0lb164l0mmjpqg_80000gn/T/ipykernel_12480/3285715680.py:4: FutureWarning: The default value of numeric_only in DataFrameGroupBy.sum is deprecated. In a future version, numeric_only will default to False. Either specify numeric_only or select only columns which should be valid for the function.\n",
      "  df_pd.groupby('hotel').sum()\n"
     ]
    }
   ],
   "source": [
    "test = \"Groupby() and sum()\"\n",
    "\n",
    "time_start=time.time()\n",
    "df_pd.groupby('hotel').sum()\n",
    "time_end=time.time()\n",
    "compare['Pandas'][test] = time_end - time_start\n",
    "\n",
    "time_start=time.time()\n",
    "df_pl.groupby('hotel').sum()\n",
    "time_end=time.time()\n",
    "compare['Polars'][test] = time_end - time_start"
   ]
  },
  {
   "cell_type": "markdown",
   "metadata": {},
   "source": [
    "# Plot"
   ]
  },
  {
   "cell_type": "code",
   "execution_count": 8,
   "metadata": {},
   "outputs": [
    {
     "data": {
      "text/plain": [
       "<AxesSubplot: title={'center': 'Pandas vs Polars \\n(In seconds; lower is better; on Apple Silicon M1)'}>"
      ]
     },
     "execution_count": 8,
     "metadata": {},
     "output_type": "execute_result"
    },
    {
     "data": {
      "image/png": "[encoded data removed]",
      "text/plain": [
       "<Figure size 800x500 with 1 Axes>"
      ]
     },
     "metadata": {},
     "output_type": "display_data"
    }
   ],
   "source": [
    "df_cp = pd.DataFrame(compare)\n",
    "title = 'Pandas vs Polars \\n(In seconds; lower is better; on Apple Silicon M1)'\n",
    "df_cp.plot.barh(figsize=(8,5), title=title)"
   ]
  },
  {
   "cell_type": "code",
   "execution_count": 9,
   "metadata": {},
   "outputs": [
    {
     "data": {
      "text/plain": [
       "'Pandas is 2.98x slower than Polars'"
      ]
     },
     "execution_count": 9,
     "metadata": {},
     "output_type": "execute_result"
    }
   ],
   "source": [
    "f\"Pandas is {str(df_cp.sum()[0] / df_cp.sum()[1])[:4]}x slower than Polars\""
   ]
  },
  {
   "cell_type": "code",
   "execution_count": 10,
   "metadata": {},
   "outputs": [
    {
     "data": {
      "text/html": [
       "<div>\n",
       "<style scoped>\n",
       "    .dataframe tbody tr th:only-of-type {\n",
       "        vertical-align: middle;\n",
       "    }\n",
       "\n",
       "    .dataframe tbody tr th {\n",
       "        vertical-align: top;\n",
       "    }\n",
       "\n",
       "    .dataframe thead th {\n",
       "        text-align: right;\n",
       "    }\n",
       "</style>\n",
       "<table border=\"1\" class=\"dataframe\">\n",
       "  <thead>\n",
       "    <tr style=\"text-align: right;\">\n",
       "      <th></th>\n",
       "      <th>Pandas</th>\n",
       "      <th>Polars</th>\n",
       "    </tr>\n",
       "  </thead>\n",
       "  <tbody>\n",
       "    <tr>\n",
       "      <th>Import a 10mb csv file</th>\n",
       "      <td>0.157</td>\n",
       "      <td>0.055</td>\n",
       "    </tr>\n",
       "    <tr>\n",
       "      <th>Column loops</th>\n",
       "      <td>0.168</td>\n",
       "      <td>0.060</td>\n",
       "    </tr>\n",
       "    <tr>\n",
       "      <th>Concat three 10mb dataframes</th>\n",
       "      <td>0.063</td>\n",
       "      <td>0.016</td>\n",
       "    </tr>\n",
       "    <tr>\n",
       "      <th>Groupby() and sum()</th>\n",
       "      <td>0.008</td>\n",
       "      <td>0.002</td>\n",
       "    </tr>\n",
       "  </tbody>\n",
       "</table>\n",
       "</div>"
      ],
      "text/plain": [
       "                              Pandas  Polars\n",
       "Import a 10mb csv file         0.157   0.055\n",
       "Column loops                   0.168   0.060\n",
       "Concat three 10mb dataframes   0.063   0.016\n",
       "Groupby() and sum()            0.008   0.002"
      ]
     },
     "execution_count": 10,
     "metadata": {},
     "output_type": "execute_result"
    }
   ],
   "source": [
    "df_cp.round(3)"
   ]
  },
  {
   "cell_type": "code",
   "execution_count": null,
   "metadata": {},
   "outputs": [],
   "source": []
  }
 ],
 "metadata": {
  "kernelspec": {
   "display_name": "data",
   "language": "python",
   "name": "python3"
  },
  "language_info": {
   "codemirror_mode": {
    "name": "ipython",
    "version": 3
   },
   "file_extension": ".py",
   "mimetype": "text/x-python",
   "name": "python",
   "nbconvert_exporter": "python",
   "pygments_lexer": "ipython3",
   "version": "3.10.9"
  },
  "orig_nbformat": 4,
  "vscode": {
   "interpreter": {
    "hash": "6ea6f8328473792a595bb7f5f93d5e5c4a3db1650846ef1375ccda5fcb7c9aa9"
   }
  }
 },
 "nbformat": 4,
 "nbformat_minor": 2
}
