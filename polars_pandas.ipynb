{
 "cells": [
  {
   "cell_type": "code",
   "execution_count": 9,
   "metadata": {},
   "outputs": [],
   "source": [
    "# !pip install 'polars[all]'"
   ]
  },
  {
   "cell_type": "code",
   "execution_count": 10,
   "metadata": {},
   "outputs": [],
   "source": [
    "import time\n",
    "import pandas as pd\n",
    "import polars as pl\n",
    "\n",
    "compare = {'Pandas':{},\n",
    "           'Polars':{}}"
   ]
  },
  {
   "attachments": {},
   "cell_type": "markdown",
   "metadata": {},
   "source": [
    "# Import"
   ]
  },
  {
   "cell_type": "code",
   "execution_count": 11,
   "metadata": {},
   "outputs": [
    {
     "name": "stderr",
     "output_type": "stream",
     "text": [
      "Polars found a filename. Ensure you pass a path to the file instead of a python file object when possible for best performance."
     ]
    }
   ],
   "source": [
    "test = \"Import a 10mb csv file\"\n",
    "\n",
    "time_start=time.time()\n",
    "df_pd = pd.read_csv('./data/hotel_train.txt', sep=',', encoding='utf-8')\n",
    "time_end=time.time()\n",
    "compare['Pandas'][test] = time_end - time_start\n",
    "\n",
    "time_start=time.time()\n",
    "df_pl = pl.read_csv('./data/hotel_train.txt', sep=',', encoding='utf-8')\n",
    "time_end=time.time()\n",
    "compare['Polars'][test] = time_end - time_start"
   ]
  },
  {
   "cell_type": "code",
   "execution_count": 12,
   "metadata": {},
   "outputs": [
    {
     "name": "stderr",
     "output_type": "stream",
     "text": [
      "/var/folders/3j/r5y5z2vx0lb164l0mmjpqg_80000gn/T/ipykernel_11964/1532774379.py:5: FutureWarning: The default value of numeric_only in DataFrameGroupBy.sum is deprecated. In a future version, numeric_only will default to False. Either specify numeric_only or select only columns which should be valid for the function.\n",
      "  df_pd.groupby(col).sum()\n",
      "/var/folders/3j/r5y5z2vx0lb164l0mmjpqg_80000gn/T/ipykernel_11964/1532774379.py:5: FutureWarning: The default value of numeric_only in DataFrameGroupBy.sum is deprecated. In a future version, numeric_only will default to False. Either specify numeric_only or select only columns which should be valid for the function.\n",
      "  df_pd.groupby(col).sum()\n",
      "/var/folders/3j/r5y5z2vx0lb164l0mmjpqg_80000gn/T/ipykernel_11964/1532774379.py:5: FutureWarning: The default value of numeric_only in DataFrameGroupBy.sum is deprecated. In a future version, numeric_only will default to False. Either specify numeric_only or select only columns which should be valid for the function.\n",
      "  df_pd.groupby(col).sum()\n",
      "/var/folders/3j/r5y5z2vx0lb164l0mmjpqg_80000gn/T/ipykernel_11964/1532774379.py:5: FutureWarning: The default value of numeric_only in DataFrameGroupBy.sum is deprecated. In a future version, numeric_only will default to False. Either specify numeric_only or select only columns which should be valid for the function.\n",
      "  df_pd.groupby(col).sum()\n",
      "/var/folders/3j/r5y5z2vx0lb164l0mmjpqg_80000gn/T/ipykernel_11964/1532774379.py:5: FutureWarning: The default value of numeric_only in DataFrameGroupBy.sum is deprecated. In a future version, numeric_only will default to False. Either specify numeric_only or select only columns which should be valid for the function.\n",
      "  df_pd.groupby(col).sum()\n",
      "/var/folders/3j/r5y5z2vx0lb164l0mmjpqg_80000gn/T/ipykernel_11964/1532774379.py:5: FutureWarning: The default value of numeric_only in DataFrameGroupBy.sum is deprecated. In a future version, numeric_only will default to False. Either specify numeric_only or select only columns which should be valid for the function.\n",
      "  df_pd.groupby(col).sum()\n",
      "/var/folders/3j/r5y5z2vx0lb164l0mmjpqg_80000gn/T/ipykernel_11964/1532774379.py:5: FutureWarning: The default value of numeric_only in DataFrameGroupBy.sum is deprecated. In a future version, numeric_only will default to False. Either specify numeric_only or select only columns which should be valid for the function.\n",
      "  df_pd.groupby(col).sum()\n",
      "/var/folders/3j/r5y5z2vx0lb164l0mmjpqg_80000gn/T/ipykernel_11964/1532774379.py:5: FutureWarning: The default value of numeric_only in DataFrameGroupBy.sum is deprecated. In a future version, numeric_only will default to False. Either specify numeric_only or select only columns which should be valid for the function.\n",
      "  df_pd.groupby(col).sum()\n",
      "/var/folders/3j/r5y5z2vx0lb164l0mmjpqg_80000gn/T/ipykernel_11964/1532774379.py:5: FutureWarning: The default value of numeric_only in DataFrameGroupBy.sum is deprecated. In a future version, numeric_only will default to False. Either specify numeric_only or select only columns which should be valid for the function.\n",
      "  df_pd.groupby(col).sum()\n",
      "/var/folders/3j/r5y5z2vx0lb164l0mmjpqg_80000gn/T/ipykernel_11964/1532774379.py:5: FutureWarning: The default value of numeric_only in DataFrameGroupBy.sum is deprecated. In a future version, numeric_only will default to False. Either specify numeric_only or select only columns which should be valid for the function.\n",
      "  df_pd.groupby(col).sum()\n",
      "/var/folders/3j/r5y5z2vx0lb164l0mmjpqg_80000gn/T/ipykernel_11964/1532774379.py:5: FutureWarning: The default value of numeric_only in DataFrameGroupBy.sum is deprecated. In a future version, numeric_only will default to False. Either specify numeric_only or select only columns which should be valid for the function.\n",
      "  df_pd.groupby(col).sum()\n",
      "/var/folders/3j/r5y5z2vx0lb164l0mmjpqg_80000gn/T/ipykernel_11964/1532774379.py:5: FutureWarning: The default value of numeric_only in DataFrameGroupBy.sum is deprecated. In a future version, numeric_only will default to False. Either specify numeric_only or select only columns which should be valid for the function.\n",
      "  df_pd.groupby(col).sum()\n",
      "/var/folders/3j/r5y5z2vx0lb164l0mmjpqg_80000gn/T/ipykernel_11964/1532774379.py:5: FutureWarning: The default value of numeric_only in DataFrameGroupBy.sum is deprecated. In a future version, numeric_only will default to False. Either specify numeric_only or select only columns which should be valid for the function.\n",
      "  df_pd.groupby(col).sum()\n",
      "/var/folders/3j/r5y5z2vx0lb164l0mmjpqg_80000gn/T/ipykernel_11964/1532774379.py:5: FutureWarning: The default value of numeric_only in DataFrameGroupBy.sum is deprecated. In a future version, numeric_only will default to False. Either specify numeric_only or select only columns which should be valid for the function.\n",
      "  df_pd.groupby(col).sum()\n",
      "/var/folders/3j/r5y5z2vx0lb164l0mmjpqg_80000gn/T/ipykernel_11964/1532774379.py:5: FutureWarning: The default value of numeric_only in DataFrameGroupBy.sum is deprecated. In a future version, numeric_only will default to False. Either specify numeric_only or select only columns which should be valid for the function.\n",
      "  df_pd.groupby(col).sum()\n",
      "/var/folders/3j/r5y5z2vx0lb164l0mmjpqg_80000gn/T/ipykernel_11964/1532774379.py:5: FutureWarning: The default value of numeric_only in DataFrameGroupBy.sum is deprecated. In a future version, numeric_only will default to False. Either specify numeric_only or select only columns which should be valid for the function.\n",
      "  df_pd.groupby(col).sum()\n",
      "/var/folders/3j/r5y5z2vx0lb164l0mmjpqg_80000gn/T/ipykernel_11964/1532774379.py:5: FutureWarning: The default value of numeric_only in DataFrameGroupBy.sum is deprecated. In a future version, numeric_only will default to False. Either specify numeric_only or select only columns which should be valid for the function.\n",
      "  df_pd.groupby(col).sum()\n",
      "/var/folders/3j/r5y5z2vx0lb164l0mmjpqg_80000gn/T/ipykernel_11964/1532774379.py:5: FutureWarning: The default value of numeric_only in DataFrameGroupBy.sum is deprecated. In a future version, numeric_only will default to False. Either specify numeric_only or select only columns which should be valid for the function.\n",
      "  df_pd.groupby(col).sum()\n",
      "/var/folders/3j/r5y5z2vx0lb164l0mmjpqg_80000gn/T/ipykernel_11964/1532774379.py:5: FutureWarning: The default value of numeric_only in DataFrameGroupBy.sum is deprecated. In a future version, numeric_only will default to False. Either specify numeric_only or select only columns which should be valid for the function.\n",
      "  df_pd.groupby(col).sum()\n",
      "/var/folders/3j/r5y5z2vx0lb164l0mmjpqg_80000gn/T/ipykernel_11964/1532774379.py:5: FutureWarning: The default value of numeric_only in DataFrameGroupBy.sum is deprecated. In a future version, numeric_only will default to False. Either specify numeric_only or select only columns which should be valid for the function.\n",
      "  df_pd.groupby(col).sum()\n",
      "/var/folders/3j/r5y5z2vx0lb164l0mmjpqg_80000gn/T/ipykernel_11964/1532774379.py:5: FutureWarning: The default value of numeric_only in DataFrameGroupBy.sum is deprecated. In a future version, numeric_only will default to False. Either specify numeric_only or select only columns which should be valid for the function.\n",
      "  df_pd.groupby(col).sum()\n",
      "/var/folders/3j/r5y5z2vx0lb164l0mmjpqg_80000gn/T/ipykernel_11964/1532774379.py:5: FutureWarning: The default value of numeric_only in DataFrameGroupBy.sum is deprecated. In a future version, numeric_only will default to False. Either specify numeric_only or select only columns which should be valid for the function.\n",
      "  df_pd.groupby(col).sum()\n",
      "/var/folders/3j/r5y5z2vx0lb164l0mmjpqg_80000gn/T/ipykernel_11964/1532774379.py:5: FutureWarning: The default value of numeric_only in DataFrameGroupBy.sum is deprecated. In a future version, numeric_only will default to False. Either specify numeric_only or select only columns which should be valid for the function.\n",
      "  df_pd.groupby(col).sum()\n",
      "/var/folders/3j/r5y5z2vx0lb164l0mmjpqg_80000gn/T/ipykernel_11964/1532774379.py:5: FutureWarning: The default value of numeric_only in DataFrameGroupBy.sum is deprecated. In a future version, numeric_only will default to False. Either specify numeric_only or select only columns which should be valid for the function.\n",
      "  df_pd.groupby(col).sum()\n",
      "/var/folders/3j/r5y5z2vx0lb164l0mmjpqg_80000gn/T/ipykernel_11964/1532774379.py:5: FutureWarning: The default value of numeric_only in DataFrameGroupBy.sum is deprecated. In a future version, numeric_only will default to False. Either specify numeric_only or select only columns which should be valid for the function.\n",
      "  df_pd.groupby(col).sum()\n",
      "/var/folders/3j/r5y5z2vx0lb164l0mmjpqg_80000gn/T/ipykernel_11964/1532774379.py:5: FutureWarning: The default value of numeric_only in DataFrameGroupBy.sum is deprecated. In a future version, numeric_only will default to False. Either specify numeric_only or select only columns which should be valid for the function.\n",
      "  df_pd.groupby(col).sum()\n",
      "/var/folders/3j/r5y5z2vx0lb164l0mmjpqg_80000gn/T/ipykernel_11964/1532774379.py:5: FutureWarning: The default value of numeric_only in DataFrameGroupBy.sum is deprecated. In a future version, numeric_only will default to False. Either specify numeric_only or select only columns which should be valid for the function.\n",
      "  df_pd.groupby(col).sum()\n",
      "/var/folders/3j/r5y5z2vx0lb164l0mmjpqg_80000gn/T/ipykernel_11964/1532774379.py:5: FutureWarning: The default value of numeric_only in DataFrameGroupBy.sum is deprecated. In a future version, numeric_only will default to False. Either specify numeric_only or select only columns which should be valid for the function.\n",
      "  df_pd.groupby(col).sum()\n",
      "/var/folders/3j/r5y5z2vx0lb164l0mmjpqg_80000gn/T/ipykernel_11964/1532774379.py:5: FutureWarning: The default value of numeric_only in DataFrameGroupBy.sum is deprecated. In a future version, numeric_only will default to False. Either specify numeric_only or select only columns which should be valid for the function.\n",
      "  df_pd.groupby(col).sum()\n"
     ]
    }
   ],
   "source": [
    "test = \"Column loops\"\n",
    "\n",
    "time_start=time.time()\n",
    "for col in df_pd.columns:\n",
    "    df_pd.groupby(col).sum()\n",
    "time_end=time.time()\n",
    "compare['Pandas'][test] = time_end - time_start\n",
    "\n",
    "time_start=time.time()\n",
    "for col in df_pl.columns:\n",
    "    df_pl.groupby(col).sum()\n",
    "time_end=time.time()\n",
    "compare['Polars'][test] = time_end - time_start"
   ]
  },
  {
   "cell_type": "code",
   "execution_count": 13,
   "metadata": {},
   "outputs": [],
   "source": [
    "test = \"Concat three 10mb dataframes\"\n",
    "\n",
    "time_start=time.time()\n",
    "pd.concat([df_pd, df_pd, df_pd])\n",
    "time_end=time.time()\n",
    "compare['Pandas'][test] = time_end - time_start\n",
    "\n",
    "time_start=time.time()\n",
    "pl.concat([df_pl, df_pl, df_pl])\n",
    "time_end=time.time()\n",
    "compare['Polars'][test] = time_end - time_start"
   ]
  },
  {
   "cell_type": "code",
   "execution_count": 14,
   "metadata": {},
   "outputs": [
    {
     "name": "stderr",
     "output_type": "stream",
     "text": [
      "/var/folders/3j/r5y5z2vx0lb164l0mmjpqg_80000gn/T/ipykernel_11964/3285715680.py:4: FutureWarning: The default value of numeric_only in DataFrameGroupBy.sum is deprecated. In a future version, numeric_only will default to False. Either specify numeric_only or select only columns which should be valid for the function.\n",
      "  df_pd.groupby('hotel').sum()\n"
     ]
    }
   ],
   "source": [
    "test = \"Groupby() and sum()\"\n",
    "\n",
    "time_start=time.time()\n",
    "df_pd.groupby('hotel').sum()\n",
    "time_end=time.time()\n",
    "compare['Pandas'][test] = time_end - time_start\n",
    "\n",
    "time_start=time.time()\n",
    "df_pl.groupby('hotel').sum()\n",
    "time_end=time.time()\n",
    "compare['Polars'][test] = time_end - time_start"
   ]
  },
  {
   "cell_type": "markdown",
   "metadata": {},
   "source": [
    "# Plot"
   ]
  },
  {
   "cell_type": "code",
   "execution_count": 15,
   "metadata": {},
   "outputs": [
    {
     "data": {
      "text/plain": [
       "<AxesSubplot: title={'center': 'Pandas vs Polars \\n(In seconds; lower is better; on Apple Silicon M1)'}>"
      ]
     },
     "execution_count": 15,
     "metadata": {},
     "output_type": "execute_result"
    },
    {
     "data": {
      "image/png": "[encoded data removed]",
      "text/plain": [
       "<Figure size 800x500 with 1 Axes>"
      ]
     },
     "metadata": {},
     "output_type": "display_data"
    }
   ],
   "source": [
    "df_cp = pd.DataFrame(compare)\n",
    "title = 'Pandas vs Polars \\n(In seconds; lower is better; on Apple Silicon M1)'\n",
    "df_cp.plot.barh(figsize=(8,5), title=title)"
   ]
  },
  {
   "cell_type": "code",
   "execution_count": 16,
   "metadata": {},
   "outputs": [
    {
     "data": {
      "text/plain": [
       "'Pandas is 4.10x slower than Polars'"
      ]
     },
     "execution_count": 16,
     "metadata": {},
     "output_type": "execute_result"
    }
   ],
   "source": [
    "f\"Pandas is {str(df_cp.sum()[0] / df_cp.sum()[1])[:4]}x slower than Polars\""
   ]
  },
  {
   "cell_type": "code",
   "execution_count": null,
   "metadata": {},
   "outputs": [],
   "source": []
  }
 ],
 "metadata": {
  "kernelspec": {
   "display_name": "data",
   "language": "python",
   "name": "python3"
  },
  "language_info": {
   "codemirror_mode": {
    "name": "ipython",
    "version": 3
   },
   "file_extension": ".py",
   "mimetype": "text/x-python",
   "name": "python",
   "nbconvert_exporter": "python",
   "pygments_lexer": "ipython3",
   "version": "3.10.9"
  },
  "orig_nbformat": 4,
  "vscode": {
   "interpreter": {
    "hash": "6ea6f8328473792a595bb7f5f93d5e5c4a3db1650846ef1375ccda5fcb7c9aa9"
   }
  }
 },
 "nbformat": 4,
 "nbformat_minor": 2
}
